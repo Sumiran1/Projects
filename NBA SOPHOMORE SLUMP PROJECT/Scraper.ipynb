{
  "nbformat": 4,
  "nbformat_minor": 0,
  "metadata": {
    "kernelspec": {
      "display_name": "Python 3",
      "language": "python",
      "name": "python3"
    },
    "language_info": {
      "codemirror_mode": {
        "name": "ipython",
        "version": 3
      },
      "file_extension": ".py",
      "mimetype": "text/x-python",
      "name": "python",
      "nbconvert_exporter": "python",
      "pygments_lexer": "ipython3",
      "version": "3.6.8"
    },
    "colab": {
      "name": "Scraper.ipynb",
      "provenance": [],
      "collapsed_sections": []
    }
  },
  "cells": [
    {
      "cell_type": "code",
      "metadata": {
        "id": "VjHv5OAunjnr",
        "colab_type": "code",
        "colab": {}
      },
      "source": [
        "from urllib.request import urlopen \n",
        "from bs4 import BeautifulSoup \n",
        "import pandas as pd"
      ],
      "execution_count": 0,
      "outputs": []
    },
    {
      "cell_type": "markdown",
      "metadata": {
        "id": "KW8PKX8PoY7K",
        "colab_type": "text"
      },
      "source": [
        "##Scrape \n",
        "Get per game and advanced stats for each year and join on the columns (Player, Pos, Age, Tm, G) as these are common "
      ]
    },
    {
      "cell_type": "code",
      "metadata": {
        "id": "ongUcP1Snjnv",
        "colab_type": "code",
        "outputId": "6968e069-d4af-44b5-af7f-594207fb60c2",
        "colab": {
          "base_uri": "https://localhost:8080/",
          "height": 34
        }
      },
      "source": [
        "def get_stats(year, statstype):\n",
        "  url = \"https://www.basketball-reference.com/leagues/NBA_{}_{}.html\".format(year,statstype)\n",
        "  html = urlopen(url)\n",
        "  soup = BeautifulSoup(html)\n",
        "  #soup.findAll('tr', limit=2)\n",
        "\n",
        "  headers = [th.getText() for th in soup.findAll('tr',limit=2)[0].findAll('th')]\n",
        "  headers = headers[1:]\n",
        "\n",
        "  rows = soup.findAll('tr')[1:]\n",
        "  player_stats = [[td.getText() for td in rows[i].findAll('td')] for i in range(len(rows))]\n",
        "  stats = pd.DataFrame(player_stats, columns = headers)\n",
        "  return stats.drop_duplicates().dropna(how='all')\n",
        "\n",
        "\n",
        "len(get_stats(2019,'per_game'))\n",
        "\n",
        "  \n",
        "\n"
      ],
      "execution_count": 0,
      "outputs": [
        {
          "output_type": "execute_result",
          "data": {
            "text/plain": [
              "708"
            ]
          },
          "metadata": {
            "tags": []
          },
          "execution_count": 31
        }
      ]
    },
    {
      "cell_type": "code",
      "metadata": {
        "id": "XU15YEhUwLSi",
        "colab_type": "code",
        "outputId": "a26cf0d3-d79b-4579-b438-4ce48727ce2d",
        "colab": {
          "base_uri": "https://localhost:8080/",
          "height": 34
        }
      },
      "source": [
        "def get_joint_stats(year):\n",
        "  per_game = get_stats(year,'per_game')\n",
        "  advanced = get_stats(year,'advanced')\n",
        "  joint = pd.merge(per_game,advanced, on=['Player', 'Pos', 'Age', 'Tm', 'G'], how='inner', suffixes=('_per_game','_advanced'))\n",
        "  return joint\n",
        "\n",
        "len(get_joint_stats(2019))"
      ],
      "execution_count": 0,
      "outputs": [
        {
          "output_type": "execute_result",
          "data": {
            "text/plain": [
              "708"
            ]
          },
          "metadata": {
            "tags": []
          },
          "execution_count": 32
        }
      ]
    },
    {
      "cell_type": "code",
      "metadata": {
        "id": "R-M8AMf_0boR",
        "colab_type": "code",
        "colab": {}
      },
      "source": [
        "#All stats for all years\n",
        "initial = get_joint_stats(1983)\n",
        "for year in range (1984,2020):\n",
        "  joint = pd.merge(initial, get_joint_stats(year), on='Player', how='outer', suffixes=('','_year'))"
      ],
      "execution_count": 0,
      "outputs": []
    }
  ]
}