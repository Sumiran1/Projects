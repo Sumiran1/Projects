{
 "cells": [
  {
   "cell_type": "code",
   "execution_count": 1,
   "metadata": {},
   "outputs": [],
   "source": [
    "from urllib.request import urlopen\n",
    "from bs4 import BeautifulSoup\n",
    "import pandas as pd\n",
    "import numpy as np\n",
    "import re"
   ]
  },
  {
   "cell_type": "markdown",
   "metadata": {},
   "source": [
    "Scraping rookie year stats from basketball refrence, since we have compiled a set of data from 1985-2019, we will have to fidn the query names from this list and isolate those players."
   ]
  },
  {
   "cell_type": "code",
   "execution_count": 27,
   "metadata": {},
   "outputs": [],
   "source": [
    "def get_player_name_and_link(row):\n",
    "    links = row.findAll('a')\n",
    "    if links:\n",
    "        return [links[0].getText(),\"https://www.basketball-reference.com\" + links[0].get('href')]"
   ]
  },
  {
   "cell_type": "code",
   "execution_count": 28,
   "metadata": {},
   "outputs": [],
   "source": [
    "from string import ascii_lowercase\n",
    "def get_player_names_and_links():\n",
    "    player_names_and_links = []\n",
    "    for first_letter in ascii_lowercase:\n",
    "        if first_letter == 'x':\n",
    "            continue\n",
    "        url = 'https://www.basketball-reference.com/players/'+ first_letter + '/'\n",
    "        html = urlopen(url)\n",
    "        soup = BeautifulSoup(html,'lxml')\n",
    "        rows = soup.findAll('tr')[1:]\n",
    "        player_names_and_links.extend([get_player_name_and_link(row) for row in rows if int(row.findAll('td')[0].getText())>1983])\n",
    "    return player_names_and_links"
   ]
  },
  {
   "cell_type": "code",
   "execution_count": 37,
   "metadata": {},
   "outputs": [],
   "source": [
    "player_names_and_links = get_player_names_and_links()"
   ]
  },
  {
   "cell_type": "code",
   "execution_count": 39,
   "metadata": {},
   "outputs": [
    {
     "data": {
      "text/plain": [
       "2680"
      ]
     },
     "execution_count": 39,
     "metadata": {},
     "output_type": "execute_result"
    }
   ],
   "source": [
    "len(player_names_and_links)"
   ]
  },
  {
   "cell_type": "code",
   "execution_count": 40,
   "metadata": {},
   "outputs": [],
   "source": [
    "names_of_roy_players = [i[0] for i in player_names_and_links]"
   ]
  },
  {
   "cell_type": "code",
   "execution_count": 41,
   "metadata": {},
   "outputs": [],
   "source": [
    "links_of_roy_players = [i[1] for i in player_names_and_links]"
   ]
  },
  {
   "cell_type": "code",
   "execution_count": null,
   "metadata": {},
   "outputs": [],
   "source": []
  }
 ],
 "metadata": {
  "kernelspec": {
   "display_name": "Python 3",
   "language": "python",
   "name": "python3"
  },
  "language_info": {
   "codemirror_mode": {
    "name": "ipython",
    "version": 3
   },
   "file_extension": ".py",
   "mimetype": "text/x-python",
   "name": "python",
   "nbconvert_exporter": "python",
   "pygments_lexer": "ipython3",
   "version": "3.6.8"
  }
 },
 "nbformat": 4,
 "nbformat_minor": 2
}
