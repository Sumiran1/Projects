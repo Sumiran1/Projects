{
 "cells": [
  {
   "cell_type": "markdown",
   "metadata": {
    "colab_type": "text",
    "id": "HNUnJ0LB72tw"
   },
   "source": [
    "## A Comparision Of The Performance of Logistic Regression, Support Vector Machines, And Transfer Learning Trained VGG16 On The Detection Of COVID-19 In Chest X-rays"
   ]
  },
  {
   "cell_type": "markdown",
   "metadata": {
    "colab_type": "text",
    "id": "40ZuPV4tiO4C"
   },
   "source": [
    "## IMPORTS"
   ]
  },
  {
   "cell_type": "code",
   "execution_count": 1,
   "metadata": {
    "colab": {
     "base_uri": "https://localhost:8080/",
     "height": 89
    },
    "colab_type": "code",
    "id": "U73oLaE1Y8uq",
    "outputId": "b5948f8d-d85d-4f07-be27-ac361bdb5799"
   },
   "outputs": [
    {
     "name": "stderr",
     "output_type": "stream",
     "text": [
      "/usr/local/lib/python3.6/dist-packages/statsmodels/tools/_testing.py:19: FutureWarning: pandas.util.testing is deprecated. Use the functions in the public API at pandas.testing instead.\n",
      "  import pandas.util.testing as tm\n",
      "Using TensorFlow backend.\n"
     ]
    }
   ],
   "source": [
    "import numpy as np\n",
    "import tensorflow as tf\n",
    "import matplotlib.pyplot as plt\n",
    "import seaborn as sns\n",
    "from tensorflow.keras.preprocessing.image import ImageDataGenerator\n",
    "from keras import models\n",
    "from keras import layers\n",
    "from keras.applications import VGG16\n",
    "from keras import optimizers\n",
    "from keras.layers import AveragePooling2D,Dropout,GlobalAveragePooling2D\n",
    "from keras.regularizers import l2,l1\n",
    "from tensorflow.keras.optimizers import Adam\n",
    "from os import listdir\n",
    "import os\n",
    "import cv2\n",
    "import shutil\n",
    "import random\n",
    "import sklearn\n",
    "from sklearn.model_selection import train_test_split\n",
    "from sklearn.svm import SVC\n",
    "from sklearn.linear_model import LogisticRegression\n",
    "from sklearn.model_selection import GridSearchCV\n",
    "from sklearn.metrics import classification_report, confusion_matrix"
   ]
  },
  {
   "cell_type": "markdown",
   "metadata": {
    "colab_type": "text",
    "id": "WCXJqen07-G6"
   },
   "source": [
    "## KAGGLE PIPELINE"
   ]
  },
  {
   "cell_type": "code",
   "execution_count": 2,
   "metadata": {
    "colab": {
     "base_uri": "https://localhost:8080/",
     "height": 93,
     "resources": {
      "http://localhost:8080/nbextensions/google.colab/files.js": {
       "data": "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",
       "headers": [
        [
         "content-type",
         "application/javascript"
        ]
       ],
       "ok": true,
       "status": 200,
       "status_text": ""
      }
     }
    },
    "colab_type": "code",
    "id": "Ac1MUwU_7zni",
    "outputId": "944ddcdf-0478-4069-d52b-17304c8af07a"
   },
   "outputs": [
    {
     "data": {
      "text/html": [
       "\n",
       "     <input type=\"file\" id=\"files-7bc3c057-73d9-465d-9f70-7ff4d7f1964c\" name=\"files[]\" multiple disabled />\n",
       "     <output id=\"result-7bc3c057-73d9-465d-9f70-7ff4d7f1964c\">\n",
       "      Upload widget is only available when the cell has been executed in the\n",
       "      current browser session. Please rerun this cell to enable.\n",
       "      </output>\n",
       "      <script src=\"/nbextensions/google.colab/files.js\"></script> "
      ],
      "text/plain": [
       "<IPython.core.display.HTML object>"
      ]
     },
     "metadata": {
      "tags": []
     },
     "output_type": "display_data"
    },
    {
     "name": "stdout",
     "output_type": "stream",
     "text": [
      "Saving kaggle.json to kaggle.json\n"
     ]
    },
    {
     "data": {
      "text/plain": [
       "{'kaggle.json': b'{\"username\":\"sumiranthakur\",\"key\":\"ece9e879a334e861ad133bc4d50f797a\"}'}"
      ]
     },
     "execution_count": 2,
     "metadata": {
      "tags": []
     },
     "output_type": "execute_result"
    }
   ],
   "source": [
    "from google.colab import files\n",
    "files.upload()"
   ]
  },
  {
   "cell_type": "code",
   "execution_count": 3,
   "metadata": {
    "colab": {
     "base_uri": "https://localhost:8080/",
     "height": 69
    },
    "colab_type": "code",
    "id": "EJvxDRrqVhKd",
    "outputId": "00179f1b-133c-4f4c-96c3-49bbb46e1b14"
   },
   "outputs": [
    {
     "name": "stdout",
     "output_type": "stream",
     "text": [
      "cp: cannot stat '/content/.kaggle/kaggle.json': No such file or directory\n",
      "Warning: Your Kaggle API key is readable by other users on this system! To fix this, you can run 'chmod 600 /root/.kaggle/kaggle.json'\n",
      "- path is now set to: {/content}\n"
     ]
    }
   ],
   "source": [
    "!pip install -q kaggle\n",
    "\n",
    "!mkdir -p ~/.kaggle\n",
    "\n",
    "!cp kaggle.json ~/.kaggle/\n",
    "\n",
    "!cp /content/.kaggle/kaggle.json ~/.kaggle/kaggle.json\n",
    "\n",
    "!kaggle config set -n path -v{/content}\n",
    "\n",
    "!chmod 600 /root/.kaggle/kaggle.json"
   ]
  },
  {
   "cell_type": "code",
   "execution_count": 4,
   "metadata": {
    "colab": {
     "base_uri": "https://localhost:8080/",
     "height": 69
    },
    "colab_type": "code",
    "id": "hSBJ-R15XGvI",
    "outputId": "adfb2e64-1606-4771-ff84-6a0dbabb70c3"
   },
   "outputs": [
    {
     "name": "stdout",
     "output_type": "stream",
     "text": [
      "Downloading covid19-radiography-database.zip to /content\n",
      " 99% 1.14G/1.15G [00:08<00:00, 88.1MB/s]\n",
      "100% 1.15G/1.15G [00:08<00:00, 143MB/s] \n"
     ]
    }
   ],
   "source": [
    "!kaggle datasets download -d tawsifurrahman/covid19-radiography-database -p /content --force"
   ]
  },
  {
   "cell_type": "code",
   "execution_count": 0,
   "metadata": {
    "colab": {},
    "colab_type": "code",
    "id": "_W8DC4KPXibE"
   },
   "outputs": [],
   "source": [
    "%%capture\n",
    "!unzip \\*.zip"
   ]
  },
  {
   "cell_type": "markdown",
   "metadata": {
    "colab_type": "text",
    "id": "IAt8M6Vh8Kp5"
   },
   "source": [
    "## CREATING INITIAL TRAINING DIRECTORIES"
   ]
  },
  {
   "cell_type": "code",
   "execution_count": 6,
   "metadata": {
    "colab": {
     "base_uri": "https://localhost:8080/",
     "height": 139
    },
    "colab_type": "code",
    "id": "IIKY8ecEXlnt",
    "outputId": "53ef07b6-5153-4cc4-f81a-3ae4bf3f4ab7"
   },
   "outputs": [
    {
     "data": {
      "text/plain": [
       "['Viral Pneumonia',\n",
       " 'README.md.txt',\n",
       " 'NORMAL.metadata.xlsx',\n",
       " 'COVID-19',\n",
       " 'COVID-19.metadata.xlsx',\n",
       " 'Viral Pneumonia.matadata.xlsx',\n",
       " 'NORMAL']"
      ]
     },
     "execution_count": 6,
     "metadata": {
      "tags": []
     },
     "output_type": "execute_result"
    }
   ],
   "source": [
    "# listing all image classes in train and test\n",
    "list_classes = listdir('/content/COVID-19 Radiography Database')\n",
    "list_classes"
   ]
  },
  {
   "cell_type": "code",
   "execution_count": 0,
   "metadata": {
    "colab": {},
    "colab_type": "code",
    "id": "fP4Mt_ihZb3p"
   },
   "outputs": [],
   "source": [
    "# declaring these now, so it will be easier to copy over the data\n",
    "normal= '/content/COVID-19 Radiography Database/NORMAL'\n",
    "covid_19= '/content/COVID-19 Radiography Database/COVID-19'\n",
    "viral_pneumonia= '/content/COVID-19 Radiography Database/Viral Pneumonia'"
   ]
  },
  {
   "cell_type": "code",
   "execution_count": 8,
   "metadata": {
    "colab": {
     "base_uri": "https://localhost:8080/",
     "height": 87
    },
    "colab_type": "code",
    "id": "P50ITtwpt_xd",
    "outputId": "84fac642-3b7e-4533-a92a-58e2d4b30ef7"
   },
   "outputs": [
    {
     "name": "stdout",
     "output_type": "stream",
     "text": [
      "Successfully created the directory /content/training_data/COVID-19\n",
      "Successfully created the directory /content/training_data/NORMAL\n",
      "Successfully created the directory /content/training_data/VIRAL PNEUMONIA\n",
      "True\n"
     ]
    }
   ],
   "source": [
    "\n",
    "#we define some helper functions to help copy, move the data\n",
    "\n",
    "def get_file_list(input_dir):\n",
    "    return [file for file in os.listdir(input_dir) if os.path.isfile(os.path.join(input_dir, file))]\n",
    "\n",
    "def get_random_files(file_list, N):\n",
    "    return random.sample(file_list, N)\n",
    "\n",
    "def copy_files(random_files, input_dir, output_dir):\n",
    "    for file in random_files:\n",
    "        shutil.copy(os.path.join(input_dir, file), output_dir)\n",
    "\n",
    "def move_files(random_files, input_dir, output_dir):\n",
    "  for file in random_files:\n",
    "        shutil.move(os.path.join(input_dir, file), output_dir)\n",
    "\n",
    "def copy_over(input_dir, output_dir, N):\n",
    "    file_list = get_file_list(input_dir)\n",
    "    random_files = get_random_files(file_list, N)\n",
    "    copy_files(random_files, input_dir, output_dir)\n",
    "\n",
    "def move_over(input_dir, output_dir, N):\n",
    "  file_list = get_file_list(input_dir)\n",
    "  random_files = get_random_files(file_list, N)\n",
    "  move_files(random_files, input_dir, output_dir)\n",
    "\n",
    "#creating our new directories\n",
    "def append_to_path(path):\n",
    "  try:\n",
    "      os.makedirs(path)\n",
    "  except OSError:\n",
    "      print (\"Creation of the directory %s failed\" % path)\n",
    "  else:\n",
    "      print (\"Successfully created the directory %s\" % path)\n",
    "\n",
    "\n",
    "path_train_covid= '/content/training_data/COVID-19'\n",
    "path_train_normal= '/content/training_data/NORMAL'\n",
    "path_train_viral_pnuemonia= '/content/training_data/VIRAL PNEUMONIA'\n",
    "\n",
    "\n",
    "append_to_path(path_train_covid)\n",
    "append_to_path(path_train_normal)\n",
    "append_to_path(path_train_viral_pnuemonia)\n",
    "\n",
    "length= min([len(listdir(normal)),len(listdir(covid_19)),len(listdir(viral_pneumonia))])\n",
    "#since the covid 19 directory has 219 images we will try to make sure that we randomly select 219 images\n",
    "#from the viral pneumonia and normal categories. We will pick the smallest of these three values always\n",
    "\n",
    "copy_over(covid_19,path_train_covid,length)\n",
    "copy_over(normal,path_train_normal,length)\n",
    "copy_over(viral_pneumonia,path_train_viral_pnuemonia,length)\n",
    "\n",
    "#check if it worked\n",
    "\n",
    "print(len(listdir(path_train_covid))==len(listdir(covid_19)))\n"
   ]
  },
  {
   "cell_type": "markdown",
   "metadata": {
    "colab_type": "text",
    "id": "xXTn-7028Qh1"
   },
   "source": [
    "## MAKING DATA FOR LOGISTIC REGRESSION AND SVM"
   ]
  },
  {
   "cell_type": "code",
   "execution_count": 0,
   "metadata": {
    "colab": {},
    "colab_type": "code",
    "id": "fhMc9zHs6HDc"
   },
   "outputs": [],
   "source": [
    "## we have to make our training and test splits for logistic reg and svm here, since we use scikit learn\n",
    "## I have to do this before I make the test directories for the CNN model\n",
    "def make_data(dir):\n",
    "  data=[]\n",
    "  for image in (os.listdir(dir)):\n",
    "    path= os.path.join(dir,image)\n",
    "    img = cv2.imread(path, cv2.IMREAD_GRAYSCALE) \n",
    "    img_resized = cv2.resize(img, (224,224))\n",
    "    data.append(np.asarray(img_resized).flatten())\n",
    "  return data\n",
    "\n",
    "def make_labels(label,len):\n",
    " return np.array([label for i in range(len)])\n",
    "\n",
    "training_data_covid= make_data(path_train_covid)\n",
    "training_data_normal= make_data(path_train_normal)\n",
    "training_data_viral_pneumonia= make_data(path_train_viral_pnuemonia)\n",
    "training_data= np.concatenate((training_data_covid,training_data_normal,training_data_viral_pneumonia),axis=0)\n",
    "data_fixed = (training_data-np.min(training_data))/(np.max(training_data)-np.min(training_data))\n",
    "covid_labels= make_labels('COVID-19',219)\n",
    "normal_labels= make_labels('NORMAL',219)\n",
    "viral_pneumonia_labels= make_labels('VIRAL PNEUMONIA',219)\n",
    "labels= np.concatenate((covid_labels,normal_labels,viral_pneumonia_labels),axis=0)\n",
    "X_train_temp, X_test, Y_train_temp, Y_test = train_test_split(data_fixed, labels, test_size=0.15, random_state=50)\n",
    "X_train, X_val, Y_train, Y_val= train_test_split(X_train_temp,Y_train_temp,test_size=0.15,random_state=50)"
   ]
  },
  {
   "cell_type": "markdown",
   "metadata": {
    "colab_type": "text",
    "id": "0onAOE3-8pF4"
   },
   "source": [
    "## TESTING DIRECTORY FOR VGG16 MODEL"
   ]
  },
  {
   "cell_type": "code",
   "execution_count": 10,
   "metadata": {
    "colab": {
     "base_uri": "https://localhost:8080/",
     "height": 173
    },
    "colab_type": "code",
    "id": "k53vuNl9zHTk",
    "outputId": "fd79baa5-2613-43dd-a1d0-4f7e78024122"
   },
   "outputs": [
    {
     "name": "stdout",
     "output_type": "stream",
     "text": [
      "Successfully created the directory /content/test_data/COVID-19\n",
      "Successfully created the directory /content/test_data/NORMAL\n",
      "Successfully created the directory /content/test_data/VIRAL PNEUMONIA\n",
      "187\n",
      "32\n",
      "187\n",
      "32\n",
      "187\n",
      "32\n"
     ]
    }
   ],
   "source": [
    "# time to make our test set for our CNN, first we make the directories again\n",
    "path_test_covid= '/content/test_data/COVID-19'\n",
    "path_test_normal= '/content/test_data/NORMAL'\n",
    "path_test_viral_pnuemonia= '/content/test_data/VIRAL PNEUMONIA'\n",
    "\n",
    "append_to_path(path_test_covid)\n",
    "append_to_path(path_test_normal)\n",
    "append_to_path(path_test_viral_pnuemonia)\n",
    "\n",
    "#copying over ~15% to the test set\n",
    "#here we ave to make sure that our files get moved not just copied\n",
    "#so we use the move_over function\n",
    "\n",
    "move_over(path_train_covid,path_test_covid,int(0.15*length))\n",
    "move_over(path_train_normal,path_test_normal,int(0.15*length))\n",
    "move_over(path_train_viral_pnuemonia,path_test_viral_pnuemonia,int(0.15*length))\n",
    "\n",
    "#check if it worked\n",
    "print(len(listdir(path_train_covid)))\n",
    "print(len(listdir(path_test_covid)))\n",
    "print(len(listdir(path_train_normal)))\n",
    "print(len(listdir(path_test_normal)))\n",
    "print(len(listdir(path_train_viral_pnuemonia)))\n",
    "print(len(listdir(path_test_viral_pnuemonia)))"
   ]
  },
  {
   "cell_type": "markdown",
   "metadata": {
    "colab_type": "text",
    "id": "raCz9hJK8ucw"
   },
   "source": [
    "## HELPER FUNCTIONS FOR ANALYSIS"
   ]
  },
  {
   "cell_type": "code",
   "execution_count": 11,
   "metadata": {
    "colab": {
     "base_uri": "https://localhost:8080/",
     "height": 35
    },
    "colab_type": "code",
    "id": "D6DFO8N0Z4MF",
    "outputId": "022f1517-28a8-472b-f9e2-49344f7b4c20"
   },
   "outputs": [
    {
     "data": {
      "text/plain": [
       "(1024.0, 1024.0)"
      ]
     },
     "execution_count": 11,
     "metadata": {
      "tags": []
     },
     "output_type": "execute_result"
    }
   ],
   "source": [
    "def avg_pixel(paths):\n",
    "  len_total=0\n",
    "  dim1=0\n",
    "  dim2=0\n",
    "  for path in paths:\n",
    "    img_list= listdir(path)\n",
    "    len_total+= len(img_list)\n",
    "    for each_image in img_list:\n",
    "      if each_image.endswith(\".png\"):\n",
    "        full_path = path + '/' + each_image\n",
    "        image = cv2.imread(full_path)\n",
    "        dim1+=image.shape[0]\n",
    "        dim2+=image.shape[1]\n",
    "  avg_1= dim1/len_total\n",
    "  avg_2= dim2/len_total\n",
    "  return avg_1,avg_2\n",
    "\n",
    "avg_pixel([path_train_covid,path_train_normal,path_train_viral_pnuemonia,path_test_covid,path_test_normal,path_test_viral_pnuemonia])"
   ]
  },
  {
   "cell_type": "markdown",
   "metadata": {
    "colab_type": "text",
    "id": "BMuobHhGOUdR"
   },
   "source": [
    "I defined the fucnction above to see if the kaggle dataset truly had standardized image size, and it did!"
   ]
  },
  {
   "cell_type": "code",
   "execution_count": 0,
   "metadata": {
    "colab": {},
    "colab_type": "code",
    "id": "_y7LSXjFW1ys"
   },
   "outputs": [],
   "source": [
    "#### I took this from stackoverflow to plot the confusion matrix\n",
    "#### Here are the links: https://stackoverflow.com/questions/19233771/sklearn-plot-confusion-matrix-with-labels/48018785\n",
    "#### http://scikit-learn.org/stable/auto_examples/model_selection/plot_confusion_matrix.html\n",
    "\n",
    "def plot_confusion_matrix(cm,\n",
    "                          target_names,\n",
    "                          title='Confusion matrix',\n",
    "                          cmap=None,\n",
    "                          normalize=True):\n",
    "    \"\"\"\n",
    "    given a sklearn confusion matrix (cm), make a nice plot\n",
    "\n",
    "    Arguments\n",
    "    ---------\n",
    "    cm:           confusion matrix from sklearn.metrics.confusion_matrix\n",
    "\n",
    "    target_names: given classification classes such as [0, 1, 2]\n",
    "                  the class names, for example: ['high', 'medium', 'low']\n",
    "\n",
    "    title:        the text to display at the top of the matrix\n",
    "\n",
    "    cmap:         the gradient of the values displayed from matplotlib.pyplot.cm\n",
    "                  see http://matplotlib.org/examples/color/colormaps_reference.html\n",
    "                  plt.get_cmap('jet') or plt.cm.Blues\n",
    "\n",
    "    normalize:    If False, plot the raw numbers\n",
    "                  If True, plot the proportions\n",
    "\n",
    "    Usage\n",
    "    -----\n",
    "    plot_confusion_matrix(cm           = cm,                  # confusion matrix created by\n",
    "                                                              # sklearn.metrics.confusion_matrix\n",
    "                          normalize    = True,                # show proportions\n",
    "                          target_names = y_labels_vals,       # list of names of the classes\n",
    "                          title        = best_estimator_name) # title of graph\n",
    "\n",
    "    Citiation\n",
    "    ---------\n",
    "    http://scikit-learn.org/stable/auto_examples/model_selection/plot_confusion_matrix.html\n",
    "\n",
    "    \"\"\"\n",
    "    import matplotlib.pyplot as plt\n",
    "    import numpy as np\n",
    "    import itertools\n",
    "\n",
    "    accuracy = np.trace(cm) / np.sum(cm).astype('float')\n",
    "    misclass = 1 - accuracy\n",
    "\n",
    "    if cmap is None:\n",
    "        cmap = plt.get_cmap('Blues')\n",
    "\n",
    "    plt.figure(figsize=(8, 6))\n",
    "    plt.imshow(cm, interpolation='nearest', cmap=cmap)\n",
    "    plt.title(title)\n",
    "    plt.colorbar()\n",
    "\n",
    "    if target_names is not None:\n",
    "        tick_marks = np.arange(len(target_names))\n",
    "        plt.xticks(tick_marks, target_names, rotation=45)\n",
    "        plt.yticks(tick_marks, target_names)\n",
    "\n",
    "    if normalize:\n",
    "        cm = cm.astype('float') / cm.sum(axis=1)[:, np.newaxis]\n",
    "\n",
    "\n",
    "    thresh = cm.max() / 1.5 if normalize else cm.max() / 2\n",
    "    for i, j in itertools.product(range(cm.shape[0]), range(cm.shape[1])):\n",
    "        if normalize:\n",
    "            plt.text(j, i, \"{:0.4f}\".format(cm[i, j]),\n",
    "                     horizontalalignment=\"center\",\n",
    "                     color=\"white\" if cm[i, j] > thresh else \"black\")\n",
    "        else:\n",
    "            plt.text(j, i, \"{:,}\".format(cm[i, j]),\n",
    "                     horizontalalignment=\"center\",\n",
    "                     color=\"white\" if cm[i, j] > thresh else \"black\")\n",
    "\n",
    "\n",
    "    plt.tight_layout()\n",
    "    plt.ylabel('True label')\n",
    "    plt.xlabel('Predicted label\\naccuracy={:0.4f}; misclass={:0.4f}'.format(accuracy, misclass))\n",
    "    plt.show()\n"
   ]
  },
  {
   "cell_type": "markdown",
   "metadata": {
    "colab_type": "text",
    "id": "sngBFoctaAQu"
   },
   "source": [
    "## SIDE NOTE ABOUT CONFUSION MATRICES AND METRICS\n",
    " \n",
    "#What is a confusion matrix?\n",
    "\n",
    "A confusion matrix is an error matrix, where the layout helps visualize the number of samples correctly and incorrectly classified for a given set of labels within a prediction problem. The columns represent the predicted label, with the rows representing the true label, and the diagonal representing exactly correct classification rates for each given label. \n",
    "\n",
    "## What are precision, recall, and f1-score?\n",
    "\n",
    "Precision is defined as the number of true positives divided by the number of total predicted positive labels (true positives + false positives). Recall is the number of true positives divided by the number of total positive labels in the original test set. The f-1 score is weighted average of the precision and recall, it is also bounded between 0 and 1 just as the metrics before\n",
    "\n",
    "\n",
    "\n",
    "\n"
   ]
  },
  {
   "cell_type": "markdown",
   "metadata": {
    "colab_type": "text",
    "id": "FtWqy7mtPtJx"
   },
   "source": [
    "## LOGISTIC REGRESSION MODEL\n"
   ]
  },
  {
   "cell_type": "code",
   "execution_count": 13,
   "metadata": {
    "colab": {
     "base_uri": "https://localhost:8080/",
     "height": 277
    },
    "colab_type": "code",
    "id": "9S3fl2yg5yK9",
    "outputId": "844d3c39-e3fd-480f-d008-b7148a84c2c5"
   },
   "outputs": [
    {
     "data": {
      "text/plain": [
       "GridSearchCV(cv=10, error_score=nan,\n",
       "             estimator=LogisticRegression(C=1.0, class_weight=None, dual=False,\n",
       "                                          fit_intercept=True,\n",
       "                                          intercept_scaling=1, l1_ratio=None,\n",
       "                                          max_iter=100, multi_class='auto',\n",
       "                                          n_jobs=None, penalty='l2',\n",
       "                                          random_state=None, solver='newton-cg',\n",
       "                                          tol=0.0001, verbose=0,\n",
       "                                          warm_start=False),\n",
       "             iid='deprecated', n_jobs=None,\n",
       "             param_grid={'C': array([1.00000000e-04, 2.15443469e-03, 4.64158883e-02, 1.00000000e+00,\n",
       "       2.15443469e+01, 4.64158883e+02, 1.00000000e+04]),\n",
       "                         'penalty': ['l2']},\n",
       "             pre_dispatch='2*n_jobs', refit=True, return_train_score=False,\n",
       "             scoring=None, verbose=0)"
      ]
     },
     "execution_count": 13,
     "metadata": {
      "tags": []
     },
     "output_type": "execute_result"
    }
   ],
   "source": [
    "grid={\"C\":np.logspace(-4,4,7), 'penalty': [\"l2\"]}\n",
    "log_reg = LogisticRegression(solver='newton-cg')\n",
    "log_reg_cv = GridSearchCV(log_reg, grid, cv=10)\n",
    "log_reg_cv.fit(X_train,Y_train)"
   ]
  },
  {
   "cell_type": "code",
   "execution_count": 27,
   "metadata": {
    "colab": {
     "base_uri": "https://localhost:8080/",
     "height": 35
    },
    "colab_type": "code",
    "id": "6f5sErqb-bVi",
    "outputId": "6844d1ea-0e30-409a-cf37-4abeb5685f88"
   },
   "outputs": [
    {
     "name": "stdout",
     "output_type": "stream",
     "text": [
      "The validation accuracy is 0.9166666666666666\n"
     ]
    }
   ],
   "source": [
    "y_pred = log_reg_cv.predict(X_val)\n",
    "val_acc=sklearn.metrics.accuracy_score(y_pred,Y_val)\n",
    "print(f'The validation accuracy is {val_acc}')"
   ]
  },
  {
   "cell_type": "code",
   "execution_count": 28,
   "metadata": {
    "colab": {
     "base_uri": "https://localhost:8080/",
     "height": 675
    },
    "colab_type": "code",
    "id": "rQqFNksN-f4u",
    "outputId": "5c8c9644-47be-425d-cf0d-f81ed1f9888e"
   },
   "outputs": [
    {
     "name": "stdout",
     "output_type": "stream",
     "text": [
      "The test accuracy is 0.8686868686868687\n"
     ]
    },
    {
     "data": {
      "image/png": "[encoded data removed]",
      "text/plain": [
       "<Figure size 576x432 with 2 Axes>"
      ]
     },
     "metadata": {
      "needs_background": "light",
      "tags": []
     },
     "output_type": "display_data"
    },
    {
     "name": "stdout",
     "output_type": "stream",
     "text": [
      "Classification Report\n",
      "                 precision    recall  f1-score   support\n",
      "\n",
      "       COVID-19       0.88      0.88      0.88        33\n",
      "         NORMAL       0.93      0.86      0.89        29\n",
      "VIRAL PNEUMONIA       0.82      0.86      0.84        37\n",
      "\n",
      "       accuracy                           0.87        99\n",
      "      macro avg       0.88      0.87      0.87        99\n",
      "   weighted avg       0.87      0.87      0.87        99\n",
      "\n"
     ]
    }
   ],
   "source": [
    "y_pred = log_reg_cv.predict(X_test)\n",
    "test_acc=sklearn.metrics.accuracy_score(y_pred,Y_test)\n",
    "print(f'The test accuracy is {test_acc}')\n",
    "target_names= ['COVID-19', 'NORMAL', 'VIRAL PNEUMONIA']\n",
    "cm= confusion_matrix(Y_test,y_pred)\n",
    "plot_confusion_matrix(cm,target_names,title='Confusion matrix',cmap=None,normalize=True)\n",
    "print('Classification Report')\n",
    "print(classification_report(Y_test, y_pred, target_names=target_names))"
   ]
  },
  {
   "cell_type": "markdown",
   "metadata": {
    "colab_type": "text",
    "id": "l1mbJjtGMo3G"
   },
   "source": [
    "## LINEAR KERNEL SVM \n",
    "\n",
    "\n"
   ]
  },
  {
   "cell_type": "code",
   "execution_count": 19,
   "metadata": {
    "colab": {
     "base_uri": "https://localhost:8080/",
     "height": 225
    },
    "colab_type": "code",
    "id": "ka1qrSyB80Gj",
    "outputId": "33c274d3-79e2-4ab9-fbe3-eb866eb7b87f"
   },
   "outputs": [
    {
     "data": {
      "text/plain": [
       "GridSearchCV(cv=10, error_score=nan,\n",
       "             estimator=SVC(C=1.0, break_ties=False, cache_size=200,\n",
       "                           class_weight=None, coef0=0.0,\n",
       "                           decision_function_shape='ovr', degree=3,\n",
       "                           gamma='scale', kernel='linear', max_iter=-1,\n",
       "                           probability=False, random_state=None, shrinking=True,\n",
       "                           tol=0.001, verbose=False),\n",
       "             iid='deprecated', n_jobs=None,\n",
       "             param_grid={'C': array([1.00000000e-04, 2.15443469e-03, 4.64158883e-02, 1.00000000e+00,\n",
       "       2.15443469e+01, 4.64158883e+02, 1.00000000e+04])},\n",
       "             pre_dispatch='2*n_jobs', refit=True, return_train_score=False,\n",
       "             scoring=None, verbose=0)"
      ]
     },
     "execution_count": 19,
     "metadata": {
      "tags": []
     },
     "output_type": "execute_result"
    }
   ],
   "source": [
    "grid={\"C\":np.logspace(-4,4,7)}\n",
    "svc=SVC(kernel='linear')\n",
    "lin_kernel_svm_cv=GridSearchCV(svc,grid,cv=10)\n",
    "lin_kernel_svm_cv.fit(X_train,Y_train)"
   ]
  },
  {
   "cell_type": "code",
   "execution_count": 20,
   "metadata": {
    "colab": {
     "base_uri": "https://localhost:8080/",
     "height": 35
    },
    "colab_type": "code",
    "id": "mjNUk1l-_JsC",
    "outputId": "39860569-f334-4246-9a80-75ed3133f032"
   },
   "outputs": [
    {
     "name": "stdout",
     "output_type": "stream",
     "text": [
      "The validation accuracy is 0.9166666666666666\n"
     ]
    }
   ],
   "source": [
    "y_pred = lin_kernel_svm_cv.predict(X_val)\n",
    "val_acc=sklearn.metrics.accuracy_score(y_pred,Y_val)\n",
    "print(f'The validation accuracy is {val_acc}')"
   ]
  },
  {
   "cell_type": "code",
   "execution_count": 29,
   "metadata": {
    "colab": {
     "base_uri": "https://localhost:8080/",
     "height": 675
    },
    "colab_type": "code",
    "id": "Wh2DRpHf_O8H",
    "outputId": "ff99b701-4806-427d-ed81-d8321e45d557"
   },
   "outputs": [
    {
     "name": "stdout",
     "output_type": "stream",
     "text": [
      "The test accuracy is 0.898989898989899\n"
     ]
    },
    {
     "data": {
      "image/png": "[encoded data removed]",
      "text/plain": [
       "<Figure size 576x432 with 2 Axes>"
      ]
     },
     "metadata": {
      "needs_background": "light",
      "tags": []
     },
     "output_type": "display_data"
    },
    {
     "name": "stdout",
     "output_type": "stream",
     "text": [
      "Classification Report\n",
      "                 precision    recall  f1-score   support\n",
      "\n",
      "       COVID-19       0.89      0.94      0.91        33\n",
      "         NORMAL       0.87      0.93      0.90        29\n",
      "VIRAL PNEUMONIA       0.94      0.84      0.89        37\n",
      "\n",
      "       accuracy                           0.90        99\n",
      "      macro avg       0.90      0.90      0.90        99\n",
      "   weighted avg       0.90      0.90      0.90        99\n",
      "\n"
     ]
    }
   ],
   "source": [
    "y_pred = lin_kernel_svm_cv.predict(X_test)\n",
    "test_acc=sklearn.metrics.accuracy_score(y_pred,Y_test)\n",
    "print(f'The test accuracy is {test_acc}')\n",
    "cm= confusion_matrix(Y_test,y_pred)\n",
    "plot_confusion_matrix(cm,target_names,title='Confusion matrix',cmap=None,normalize=True)\n",
    "print('Classification Report')\n",
    "print(classification_report(Y_test, y_pred, target_names=target_names))"
   ]
  },
  {
   "cell_type": "markdown",
   "metadata": {
    "colab_type": "text",
    "id": "gT3CJr6v_axU"
   },
   "source": [
    "## RBF KERNEL SVM"
   ]
  },
  {
   "cell_type": "code",
   "execution_count": 22,
   "metadata": {
    "colab": {
     "base_uri": "https://localhost:8080/",
     "height": 225
    },
    "colab_type": "code",
    "id": "pl3d0lS-_g_d",
    "outputId": "3fedacf5-b253-4ab8-f7d6-55d59bc6b29a"
   },
   "outputs": [
    {
     "data": {
      "text/plain": [
       "GridSearchCV(cv=10, error_score=nan,\n",
       "             estimator=SVC(C=1.0, break_ties=False, cache_size=200,\n",
       "                           class_weight=None, coef0=0.0,\n",
       "                           decision_function_shape='ovr', degree=3,\n",
       "                           gamma='scale', kernel='rbf', max_iter=-1,\n",
       "                           probability=False, random_state=None, shrinking=True,\n",
       "                           tol=0.001, verbose=False),\n",
       "             iid='deprecated', n_jobs=None,\n",
       "             param_grid={'C': array([1.00000000e-04, 2.15443469e-03, 4.64158883e-02, 1.00000000e+00,\n",
       "       2.15443469e+01, 4.64158883e+02, 1.00000000e+04])},\n",
       "             pre_dispatch='2*n_jobs', refit=True, return_train_score=False,\n",
       "             scoring=None, verbose=0)"
      ]
     },
     "execution_count": 22,
     "metadata": {
      "tags": []
     },
     "output_type": "execute_result"
    }
   ],
   "source": [
    "svc=SVC(kernel='rbf')\n",
    "rbf_kernel_svm_cv=GridSearchCV(svc,grid,cv=10)\n",
    "rbf_kernel_svm_cv.fit(X_train,Y_train)"
   ]
  },
  {
   "cell_type": "code",
   "execution_count": 23,
   "metadata": {
    "colab": {
     "base_uri": "https://localhost:8080/",
     "height": 35
    },
    "colab_type": "code",
    "id": "klk43F7n_oVd",
    "outputId": "65c3e73f-b89a-4704-eaad-bd2d461344de"
   },
   "outputs": [
    {
     "name": "stdout",
     "output_type": "stream",
     "text": [
      "The validation accuracy is 0.9404761904761905\n"
     ]
    }
   ],
   "source": [
    "y_pred = rbf_kernel_svm_cv.predict(X_val)\n",
    "val_acc=sklearn.metrics.accuracy_score(y_pred,Y_val)\n",
    "print(f'The validation accuracy is {val_acc}')"
   ]
  },
  {
   "cell_type": "code",
   "execution_count": 30,
   "metadata": {
    "colab": {
     "base_uri": "https://localhost:8080/",
     "height": 675
    },
    "colab_type": "code",
    "id": "i_tZ-FwS_s0l",
    "outputId": "4b85ee4f-aec5-4319-926b-97a476c942cb"
   },
   "outputs": [
    {
     "name": "stdout",
     "output_type": "stream",
     "text": [
      "The test accuracy is 0.898989898989899\n"
     ]
    },
    {
     "data": {
      "image/png": "[encoded data removed]",
      "text/plain": [
       "<Figure size 576x432 with 2 Axes>"
      ]
     },
     "metadata": {
      "needs_background": "light",
      "tags": []
     },
     "output_type": "display_data"
    },
    {
     "name": "stdout",
     "output_type": "stream",
     "text": [
      "Classification Report\n",
      "                 precision    recall  f1-score   support\n",
      "\n",
      "       COVID-19       0.91      0.91      0.91        33\n",
      "         NORMAL       0.84      0.93      0.89        29\n",
      "VIRAL PNEUMONIA       0.94      0.86      0.90        37\n",
      "\n",
      "       accuracy                           0.90        99\n",
      "      macro avg       0.90      0.90      0.90        99\n",
      "   weighted avg       0.90      0.90      0.90        99\n",
      "\n"
     ]
    }
   ],
   "source": [
    "y_pred = rbf_kernel_svm_cv.predict(X_test)\n",
    "test_acc=sklearn.metrics.accuracy_score(y_pred,Y_test)\n",
    "print(f'The test accuracy is {test_acc}')\n",
    "cm= confusion_matrix(Y_test,y_pred)\n",
    "plot_confusion_matrix(cm,target_names,title='Confusion matrix',cmap=None,normalize=True)\n",
    "print('Classification Report')\n",
    "print(classification_report(Y_test, y_pred, target_names=target_names))"
   ]
  },
  {
   "cell_type": "markdown",
   "metadata": {
    "colab_type": "text",
    "id": "ckSgiM3mQJrQ"
   },
   "source": [
    "## VGG 16 MODEL"
   ]
  },
  {
   "cell_type": "code",
   "execution_count": 25,
   "metadata": {
    "colab": {
     "base_uri": "https://localhost:8080/",
     "height": 1000
    },
    "colab_type": "code",
    "id": "GSfRDqyhPH5H",
    "outputId": "6b17faa6-b492-46b2-b950-ecb3749ff832"
   },
   "outputs": [
    {
     "name": "stdout",
     "output_type": "stream",
     "text": [
      "Found 477 images belonging to 3 classes.\n",
      "Found 84 images belonging to 3 classes.\n",
      "Downloading data from https://github.com/fchollet/deep-learning-models/releases/download/v0.1/vgg16_weights_tf_dim_ordering_tf_kernels_notop.h5\n",
      "58892288/58889256 [==============================] - 6s 0us/step\n",
      "Model: \"sequential_1\"\n",
      "_________________________________________________________________\n",
      "Layer (type)                 Output Shape              Param #   \n",
      "=================================================================\n",
      "vgg16 (Model)                (None, 7, 7, 512)         14714688  \n",
      "_________________________________________________________________\n",
      "average_pooling2d_1 (Average (None, 1, 1, 512)         0         \n",
      "_________________________________________________________________\n",
      "flatten_1 (Flatten)          (None, 512)               0         \n",
      "_________________________________________________________________\n",
      "dense_1 (Dense)              (None, 64)                32832     \n",
      "_________________________________________________________________\n",
      "dropout_1 (Dropout)          (None, 64)                0         \n",
      "_________________________________________________________________\n",
      "dense_2 (Dense)              (None, 3)                 195       \n",
      "=================================================================\n",
      "Total params: 14,747,715\n",
      "Trainable params: 33,027\n",
      "Non-trainable params: 14,714,688\n",
      "_________________________________________________________________\n",
      "Epoch 1/30\n",
      " - 19s - loss: 1.0337 - acc: 0.5085 - val_loss: 0.7381 - val_acc: 0.6625\n",
      "Epoch 2/30\n",
      " - 16s - loss: 0.6454 - acc: 0.7676 - val_loss: 0.5172 - val_acc: 0.7500\n",
      "Epoch 3/30\n",
      " - 15s - loss: 0.4932 - acc: 0.8358 - val_loss: 0.2974 - val_acc: 0.8026\n",
      "Epoch 4/30\n",
      " - 15s - loss: 0.4575 - acc: 0.8571 - val_loss: 0.2483 - val_acc: 0.8026\n",
      "Epoch 5/30\n",
      " - 15s - loss: 0.4057 - acc: 0.8507 - val_loss: 0.4680 - val_acc: 0.8158\n",
      "Epoch 6/30\n",
      " - 15s - loss: 0.3664 - acc: 0.8699 - val_loss: 0.2400 - val_acc: 0.8553\n",
      "Epoch 7/30\n",
      " - 15s - loss: 0.3629 - acc: 0.8614 - val_loss: 0.3417 - val_acc: 0.8158\n",
      "Epoch 8/30\n",
      " - 14s - loss: 0.3385 - acc: 0.8955 - val_loss: 0.7823 - val_acc: 0.8026\n",
      "Epoch 9/30\n",
      " - 15s - loss: 0.3219 - acc: 0.8891 - val_loss: 0.2633 - val_acc: 0.8421\n",
      "Epoch 10/30\n",
      " - 14s - loss: 0.3033 - acc: 0.8913 - val_loss: 0.3647 - val_acc: 0.8421\n",
      "Epoch 11/30\n",
      " - 14s - loss: 0.2576 - acc: 0.9147 - val_loss: 0.3035 - val_acc: 0.8289\n",
      "Epoch 12/30\n",
      " - 15s - loss: 0.2932 - acc: 0.9083 - val_loss: 0.4152 - val_acc: 0.7875\n",
      "Epoch 13/30\n",
      " - 16s - loss: 0.2894 - acc: 0.9019 - val_loss: 0.1744 - val_acc: 0.8947\n",
      "Epoch 14/30\n",
      " - 14s - loss: 0.2423 - acc: 0.9254 - val_loss: 0.4506 - val_acc: 0.8684\n",
      "Epoch 15/30\n",
      " - 15s - loss: 0.2379 - acc: 0.9126 - val_loss: 0.2670 - val_acc: 0.8947\n",
      "Epoch 16/30\n",
      " - 15s - loss: 0.2355 - acc: 0.9168 - val_loss: 0.2695 - val_acc: 0.8947\n",
      "Epoch 17/30\n",
      " - 14s - loss: 0.2514 - acc: 0.9083 - val_loss: 0.5861 - val_acc: 0.8816\n",
      "Epoch 18/30\n",
      " - 15s - loss: 0.2186 - acc: 0.9254 - val_loss: 0.1715 - val_acc: 0.9079\n",
      "Epoch 19/30\n",
      " - 14s - loss: 0.2400 - acc: 0.9062 - val_loss: 0.2325 - val_acc: 0.9211\n",
      "Epoch 20/30\n",
      " - 15s - loss: 0.2201 - acc: 0.9296 - val_loss: 0.0815 - val_acc: 0.8816\n",
      "Epoch 21/30\n",
      " - 15s - loss: 0.2036 - acc: 0.9296 - val_loss: 0.1856 - val_acc: 0.8947\n",
      "Epoch 22/30\n",
      " - 14s - loss: 0.1903 - acc: 0.9296 - val_loss: 0.2732 - val_acc: 0.8421\n",
      "Epoch 23/30\n",
      " - 15s - loss: 0.1895 - acc: 0.9403 - val_loss: 0.1290 - val_acc: 0.9250\n",
      "Epoch 24/30\n",
      " - 16s - loss: 0.2390 - acc: 0.9168 - val_loss: 0.2629 - val_acc: 0.8947\n",
      "Epoch 25/30\n",
      " - 14s - loss: 0.1661 - acc: 0.9510 - val_loss: 0.1058 - val_acc: 0.9079\n",
      "Epoch 26/30\n",
      " - 14s - loss: 0.1833 - acc: 0.9382 - val_loss: 0.3592 - val_acc: 0.8553\n",
      "Epoch 27/30\n",
      " - 14s - loss: 0.2274 - acc: 0.9104 - val_loss: 0.4120 - val_acc: 0.8421\n",
      "Epoch 28/30\n",
      " - 15s - loss: 0.1802 - acc: 0.9510 - val_loss: 0.4067 - val_acc: 0.8816\n",
      "Epoch 29/30\n",
      " - 15s - loss: 0.1527 - acc: 0.9510 - val_loss: 0.0728 - val_acc: 0.8684\n",
      "Epoch 30/30\n",
      " - 14s - loss: 0.1488 - acc: 0.9595 - val_loss: 0.1555 - val_acc: 0.8553\n",
      "Found 96 images belonging to 3 classes.\n",
      "12/12 [==============================] - 2s 175ms/step\n",
      "12/12 [==============================] - 2s 183ms/step\n",
      "The test loss is 0.4858548641204834\n",
      "The test accuracy is 0.9583333134651184\n"
     ]
    }
   ],
   "source": [
    "\n",
    "datagen = ImageDataGenerator(\n",
    "              rescale=1./255,\n",
    "              rotation_range=15, \n",
    "              fill_mode = 'nearest',\n",
    "              validation_split = 0.15\n",
    "            )\n",
    "# powers of 2 help for batch size, why did we pick such a smaller number, the reason is because our image dataset is only 657 images large\n",
    "b_size = 8\n",
    "img_size = (224,224)\n",
    "num_epochs= 30\n",
    "l_r= 1e-3\n",
    "len_test= 96\n",
    "\n",
    "#creating training_set\n",
    "train_generator = datagen.flow_from_directory(\n",
    "directory= '/content/training_data',\n",
    "target_size=img_size,\n",
    "batch_size=b_size,\n",
    "subset = \"training\",\n",
    "class_mode=\"categorical\",\n",
    "shuffle=True,\n",
    "seed=50\n",
    ")\n",
    "\n",
    "#creating validation set\n",
    "validation_generator = datagen.flow_from_directory(\n",
    "directory='/content/training_data',\n",
    "target_size=img_size,\n",
    "batch_size=b_size,\n",
    "subset = \"validation\",\n",
    "class_mode=\"categorical\",\n",
    "shuffle=True,\n",
    "seed=50\n",
    ")\n",
    "\n",
    "#number of total batches made \n",
    "num_iter_train= int(train_generator.n/train_generator.batch_size)\n",
    "num_iter_valid=int(validation_generator.n/validation_generator.batch_size)\n",
    "base_model= VGG16(weights='imagenet',\n",
    "      include_top=False,\n",
    "      input_shape=(224,224,3))\n",
    "base_model.trainable = False\n",
    "\n",
    "model = models.Sequential()\n",
    "model.add(base_model)\n",
    "model.add(AveragePooling2D(pool_size=(4, 4)))\n",
    "model.add(layers.Flatten())\n",
    "model.add(layers.Dense(64, activation='elu'))\n",
    "model.add(Dropout(0.4))\n",
    "model.add(layers.Dense(3, activation='softmax'))\n",
    "model.compile(loss='categorical_crossentropy',\n",
    "  optimizer=optimizers.Adam(lr=l_r, decay= l_r/num_epochs),\n",
    "  metrics=['acc'])\n",
    "model.summary()\n",
    "trained_VGG16=model.fit_generator(train_generator,\n",
    "            steps_per_epoch = num_iter_train,\n",
    "            validation_data = validation_generator,\n",
    "            validation_steps = num_iter_valid,\n",
    "            epochs= num_epochs,\n",
    "            verbose=2,\n",
    "            shuffle= False                       \n",
    "            )\n",
    "\n",
    "test_datagen= ImageDataGenerator(rescale=1. / 255)\n",
    "\n",
    "\n",
    "test_generator= test_datagen.flow_from_directory(\n",
    "        directory= '/content/test_data',\n",
    "        target_size=img_size,\n",
    "        batch_size=b_size,\n",
    "        class_mode=\"categorical\",\n",
    "        shuffle=False,\n",
    "        seed=50)\n",
    "\n",
    "test_generator.reset()\n",
    "test_size= int(len_test/b_size)\n",
    "\n",
    "result= model.evaluate_generator(test_generator,\n",
    "                                steps= test_size,\n",
    "                                verbose = 1,\n",
    "                                workers= 1)\n",
    "vgg16_result= model.predict_generator(test_generator,\n",
    "                                steps=test_size,\n",
    "                                verbose = 1,\n",
    "                                workers=1)\n",
    "print(f'The test loss is {result[0]}')\n",
    "print(f'The test accuracy is {result[1]}')\n"
   ]
  },
  {
   "cell_type": "code",
   "execution_count": 26,
   "metadata": {
    "colab": {
     "base_uri": "https://localhost:8080/",
     "height": 658
    },
    "colab_type": "code",
    "id": "VRLWhyregnpL",
    "outputId": "2e5d0d9f-e93e-488a-e640-2c34d724e849"
   },
   "outputs": [
    {
     "data": {
      "image/png": "[encoded data removed]",
      "text/plain": [
       "<Figure size 576x432 with 2 Axes>"
      ]
     },
     "metadata": {
      "needs_background": "light",
      "tags": []
     },
     "output_type": "display_data"
    },
    {
     "name": "stdout",
     "output_type": "stream",
     "text": [
      "Classification Report\n",
      "                 precision    recall  f1-score   support\n",
      "\n",
      "       COVID-19       0.91      1.00      0.96        32\n",
      "         NORMAL       1.00      0.97      0.98        32\n",
      "VIRAL PNEUMONIA       0.97      0.91      0.94        32\n",
      "\n",
      "       accuracy                           0.96        96\n",
      "      macro avg       0.96      0.96      0.96        96\n",
      "   weighted avg       0.96      0.96      0.96        96\n",
      "\n"
     ]
    }
   ],
   "source": [
    "\n",
    "vgg16_pred= np.argmax(vgg16_result,axis=1)\n",
    "cm= confusion_matrix(test_generator.classes, vgg16_pred)\n",
    "plot_confusion_matrix(cm,target_names,title='Confusion matrix',cmap=None,normalize=True)\n",
    "print('Classification Report')\n",
    "print(classification_report(test_generator.classes, vgg16_pred, target_names=target_names))"
   ]
  },
  {
   "cell_type": "markdown",
   "metadata": {
    "colab_type": "text",
    "id": "sNxrFy_VCxTq"
   },
   "source": [
    "## WHY VGG16?\n",
    "\n",
    "We actually observe that the transfer learning VGG16 performs better than the RBF kernel SVM. However, in accuracies regarding medical data, even the tiniest percents can mean a lot. Also, while logistic regression and kernelized SVM did fairly well, they simply don't scale as well with larger datasets. Since we just used one kaggle dataset and scaled it to have an even number of normal, covid-19, and viral pneumonia x rays, we only end up with a total of 657 samples. A future extension to this could including integrating other datasets once data becomes more public. Also, scikit-learn is not GPU enabled, and the training time for a GPU enabled keras model will be faster than that of scikit learn's logistic regression and SVM for much larger datasets.\n",
    "\n",
    "This was an extremely fun project, and I would like to thank Professor Ranade and the EECS 127 course staff for a wonderful semester.\n",
    "\n",
    "Keep in mind that this is simply a proof of concept and could be a useful tool down the line, but is by no means an accurate diagnostic tool. "
   ]
  }
 ],
 "metadata": {
  "accelerator": "GPU",
  "colab": {
   "collapsed_sections": [],
   "name": "EECS 127 PROJECT ",
   "provenance": []
  },
  "kernelspec": {
   "display_name": "Python 3",
   "language": "python",
   "name": "python3"
  },
  "language_info": {
   "codemirror_mode": {
    "name": "ipython",
    "version": 3
   },
   "file_extension": ".py",
   "mimetype": "text/x-python",
   "name": "python",
   "nbconvert_exporter": "python",
   "pygments_lexer": "ipython3",
   "version": "3.6.9"
  }
 },
 "nbformat": 4,
 "nbformat_minor": 1
}
